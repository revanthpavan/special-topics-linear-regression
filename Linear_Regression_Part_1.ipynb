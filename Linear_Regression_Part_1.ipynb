{
  "nbformat": 4,
  "nbformat_minor": 0,
  "metadata": {
    "colab": {
      "provenance": [],
      "authorship_tag": "ABX9TyOmdeaGK/2a3JZwi6bE4QU/",
      "include_colab_link": true
    },
    "kernelspec": {
      "name": "python3",
      "display_name": "Python 3"
    },
    "language_info": {
      "name": "python"
    }
  },
  "cells": [
    {
      "cell_type": "markdown",
      "metadata": {
        "id": "view-in-github",
        "colab_type": "text"
      },
      "source": [
        "<a href=\"https://colab.research.google.com/github/revanthpavan/special-topics-linear-regression/blob/main/Linear_Regression_Part_1.ipynb\" target=\"_parent\"><img src=\"https://colab.research.google.com/assets/colab-badge.svg\" alt=\"Open In Colab\"/></a>"
      ]
    },
    {
      "cell_type": "code",
      "source": [
        "import pandas as pandas\n",
        "import numpy as numpy\n",
        "import matplotlib.pyplot as matplotlib\n",
        "from sklearn.model_selection import train_test_split\n",
        "from sklearn import linear_model"
      ],
      "metadata": {
        "id": "vp4g9L3ow_FC"
      },
      "execution_count": 44,
      "outputs": []
    },
    {
      "cell_type": "code",
      "source": [
        "numpy.random.seed(10) #setting seed for reproducable result\n",
        "\n",
        "#Using numpy sample 200 numbers from a uniform distribution and store it into variable x\n",
        "x = numpy.random.uniform(size =200)\n",
        "print(x)"
      ],
      "metadata": {
        "colab": {
          "base_uri": "https://localhost:8080/"
        },
        "id": "Qxc8EfgqzHqj",
        "outputId": "914cbc45-a2b5-4236-f4f0-8225214faa2e"
      },
      "execution_count": 45,
      "outputs": [
        {
          "output_type": "stream",
          "name": "stdout",
          "text": [
            "[0.77132064 0.02075195 0.63364823 0.74880388 0.49850701 0.22479665\n",
            " 0.19806286 0.76053071 0.16911084 0.08833981 0.68535982 0.95339335\n",
            " 0.00394827 0.51219226 0.81262096 0.61252607 0.72175532 0.29187607\n",
            " 0.91777412 0.71457578 0.54254437 0.14217005 0.37334076 0.67413362\n",
            " 0.44183317 0.43401399 0.61776698 0.51313824 0.65039718 0.60103895\n",
            " 0.8052232  0.52164715 0.90864888 0.31923609 0.09045935 0.30070006\n",
            " 0.11398436 0.82868133 0.04689632 0.62628715 0.54758616 0.819287\n",
            " 0.19894754 0.8568503  0.35165264 0.75464769 0.29596171 0.88393648\n",
            " 0.32551164 0.1650159  0.39252924 0.09346037 0.82110566 0.15115202\n",
            " 0.38411445 0.94426071 0.98762547 0.45630455 0.82612284 0.25137413\n",
            " 0.59737165 0.90283176 0.53455795 0.59020136 0.03928177 0.35718176\n",
            " 0.07961309 0.30545992 0.33071931 0.7738303  0.03995921 0.42949218\n",
            " 0.31492687 0.63649114 0.34634715 0.04309736 0.87991517 0.76324059\n",
            " 0.87809664 0.41750914 0.60557756 0.51346663 0.59783665 0.26221566\n",
            " 0.30087131 0.02539978 0.30306256 0.24207588 0.55757819 0.56550702\n",
            " 0.47513225 0.29279798 0.06425106 0.97881915 0.33970784 0.49504863\n",
            " 0.97708073 0.44077382 0.31827281 0.51979699 0.57813643 0.85393375\n",
            " 0.06809727 0.46453081 0.78194912 0.71860281 0.58602198 0.03709441\n",
            " 0.35065639 0.56319068 0.29972987 0.51233415 0.67346693 0.15919373\n",
            " 0.05047767 0.33781589 0.10806377 0.17890281 0.8858271  0.36536497\n",
            " 0.21876935 0.75249617 0.10687958 0.74460324 0.46978529 0.59825567\n",
            " 0.14762019 0.18403482 0.64507213 0.04862801 0.24861251 0.54240852\n",
            " 0.22677334 0.38141153 0.92223279 0.92535687 0.56674992 0.53347088\n",
            " 0.01486002 0.97789926 0.5730289  0.791757   0.56155736 0.87733524\n",
            " 0.58419583 0.70884983 0.14853345 0.42845074 0.69389007 0.10461974\n",
            " 0.43960524 0.16620215 0.50697863 0.81903586 0.09010673 0.80006875\n",
            " 0.56512635 0.58934771 0.19810066 0.43611826 0.29590376 0.03755768\n",
            " 0.03068484 0.453105   0.74486408 0.55729541 0.3851136  0.1680728\n",
            " 0.83826132 0.5990518  0.78271482 0.84850918 0.60316298 0.78106062\n",
            " 0.61573688 0.02116519 0.75046461 0.17604213 0.45851421 0.51312271\n",
            " 0.48402089 0.84438579 0.17481389 0.01463488 0.84876407 0.74267458\n",
            " 0.45669754 0.41689841 0.11672951 0.33867913 0.09465904 0.71583087\n",
            " 0.0770854  0.20595026 0.57377623 0.29383156 0.65572674 0.80356835\n",
            " 0.3512135  0.09344038]\n"
          ]
        }
      ]
    },
    {
      "cell_type": "code",
      "source": [
        "noise = numpy.random.randn() #generating noise from the gaussian distribution\n",
        "\n",
        "#Generating y data using x and injecting noise from the gaussian distribution\n",
        "y = 12*x -4 + noise\n",
        "print(y)"
      ],
      "metadata": {
        "colab": {
          "base_uri": "https://localhost:8080/"
        },
        "id": "RyvV8R1DEDnY",
        "outputId": "2f083bf8-d051-4548-9d4f-a90a8b2cb99d"
      },
      "execution_count": 46,
      "outputs": [
        {
          "output_type": "stream",
          "name": "stdout",
          "text": [
            "[ 5.80427579 -3.20254854  4.15220689  5.53407466  2.53051221 -0.75401219\n",
            " -1.07481756  5.67479661 -1.42224189 -2.39149416  4.77274589  7.98914822\n",
            " -3.40419274  2.69473523  6.29987961  3.89874087  5.20949188  0.05094088\n",
            "  7.56171754  5.12333747  3.05896048 -1.74553136  1.02851719  4.63803145\n",
            "  1.85042616  1.75659599  3.96163181  2.70608698  4.35319425  3.76089551\n",
            "  6.21110643  2.8081939   7.45221464  0.37926113 -2.36605974  0.15682875\n",
            " -2.08375959  6.49260398 -2.8888161   4.06387385  3.11946194  6.37987201\n",
            " -1.06420146  6.8306317   0.76825974  5.60420036  0.09996855  7.15566582\n",
            "  0.45456772 -1.47138116  1.25877899 -2.33004744  6.40169596 -1.6377477\n",
            "  1.15780145  7.87955661  8.39993377  2.02408263  6.46190219 -0.43508232\n",
            "  3.71688785  7.38240919  2.96312345  3.63084442 -2.98019073  0.83460917\n",
            " -2.49621485  0.21394709  0.51705981  5.83439162 -2.97206143  1.70233421\n",
            "  0.32755053  4.18632178  0.70459387 -2.93440366  7.10741016  5.70731511\n",
            "  7.08558778  1.55853779  3.81535884  2.7100276   3.72246784 -0.304984\n",
            "  0.15888377 -3.14677455  0.18517879 -0.54666143  3.23936633  3.3345123\n",
            "  2.25001504  0.06200378 -2.68055921  8.29425782  0.62492219  2.48901164\n",
            "  8.27339678  1.83771397  0.36770173  2.7859919   3.48606522  6.79563307\n",
            " -2.63440465  2.12279776  5.93181749  5.17166179  3.58069183 -3.00643897\n",
            "  0.75630476  3.30671628  0.14518654  2.69643791  4.63003117 -1.54124713\n",
            " -2.84583989  0.60221871 -2.15480666 -1.30473823  7.17835322  0.93280772\n",
            " -0.82633974  5.57838211 -2.16901692  5.48366696  2.18585159  3.72749612\n",
            " -1.68012963 -1.24315407  4.28929358 -2.86803586 -0.46822184  3.05733026\n",
            " -0.73029181  1.12536649  7.61522151  7.65271054  3.34942716  2.95007869\n",
            " -3.27325164  8.28321923  3.42477491  6.04951202  3.28711639  7.07645097\n",
            "  3.55877801  5.05462598 -1.66917052  1.68983693  4.87510886 -2.196135\n",
            "  1.82369092 -1.45714616  2.63217162  6.37685844 -2.37029112  6.14925307\n",
            "  3.32994431  3.62060061 -1.07436405  1.78184713  0.09927321 -3.00087982\n",
            " -3.08335385  1.98568807  5.48679699  3.23597294  1.16979126 -1.43469836\n",
            "  6.60756391  3.73704964  5.94100589  6.73053825  3.78638378  5.92115547\n",
            "  3.93727058 -3.19758964  5.55400339 -1.33906633  2.05059854  2.70590056\n",
            "  2.35667875  6.6810576  -1.3538052  -3.27595343  6.73359693  5.46052299\n",
            "  2.02879849  1.55120895 -2.0508178   0.61257766 -2.31566344  5.13839854\n",
            " -2.52654708 -0.98016883  3.43374284  0.07440673  4.41714898  6.19124824\n",
            "  0.7629901  -2.33028741]\n"
          ]
        }
      ]
    },
    {
      "cell_type": "code",
      "source": [
        "df = pandas.DataFrame({'x':x, 'y':y})\n",
        "#print(df.head())\n",
        "#print(df.tail())\n",
        "df"
      ],
      "metadata": {
        "colab": {
          "base_uri": "https://localhost:8080/",
          "height": 423
        },
        "id": "PTrkB7d2Ngg1",
        "outputId": "0c8bdc57-433b-40e3-e523-d0b2531c0e34"
      },
      "execution_count": 47,
      "outputs": [
        {
          "output_type": "execute_result",
          "data": {
            "text/plain": [
              "            x         y\n",
              "0    0.771321  5.804276\n",
              "1    0.020752 -3.202549\n",
              "2    0.633648  4.152207\n",
              "3    0.748804  5.534075\n",
              "4    0.498507  2.530512\n",
              "..        ...       ...\n",
              "195  0.293832  0.074407\n",
              "196  0.655727  4.417149\n",
              "197  0.803568  6.191248\n",
              "198  0.351214  0.762990\n",
              "199  0.093440 -2.330287\n",
              "\n",
              "[200 rows x 2 columns]"
            ],
            "text/html": [
              "\n",
              "  <div id=\"df-2ec176fb-61fc-4b35-a202-3a2fff8314c2\">\n",
              "    <div class=\"colab-df-container\">\n",
              "      <div>\n",
              "<style scoped>\n",
              "    .dataframe tbody tr th:only-of-type {\n",
              "        vertical-align: middle;\n",
              "    }\n",
              "\n",
              "    .dataframe tbody tr th {\n",
              "        vertical-align: top;\n",
              "    }\n",
              "\n",
              "    .dataframe thead th {\n",
              "        text-align: right;\n",
              "    }\n",
              "</style>\n",
              "<table border=\"1\" class=\"dataframe\">\n",
              "  <thead>\n",
              "    <tr style=\"text-align: right;\">\n",
              "      <th></th>\n",
              "      <th>x</th>\n",
              "      <th>y</th>\n",
              "    </tr>\n",
              "  </thead>\n",
              "  <tbody>\n",
              "    <tr>\n",
              "      <th>0</th>\n",
              "      <td>0.771321</td>\n",
              "      <td>5.804276</td>\n",
              "    </tr>\n",
              "    <tr>\n",
              "      <th>1</th>\n",
              "      <td>0.020752</td>\n",
              "      <td>-3.202549</td>\n",
              "    </tr>\n",
              "    <tr>\n",
              "      <th>2</th>\n",
              "      <td>0.633648</td>\n",
              "      <td>4.152207</td>\n",
              "    </tr>\n",
              "    <tr>\n",
              "      <th>3</th>\n",
              "      <td>0.748804</td>\n",
              "      <td>5.534075</td>\n",
              "    </tr>\n",
              "    <tr>\n",
              "      <th>4</th>\n",
              "      <td>0.498507</td>\n",
              "      <td>2.530512</td>\n",
              "    </tr>\n",
              "    <tr>\n",
              "      <th>...</th>\n",
              "      <td>...</td>\n",
              "      <td>...</td>\n",
              "    </tr>\n",
              "    <tr>\n",
              "      <th>195</th>\n",
              "      <td>0.293832</td>\n",
              "      <td>0.074407</td>\n",
              "    </tr>\n",
              "    <tr>\n",
              "      <th>196</th>\n",
              "      <td>0.655727</td>\n",
              "      <td>4.417149</td>\n",
              "    </tr>\n",
              "    <tr>\n",
              "      <th>197</th>\n",
              "      <td>0.803568</td>\n",
              "      <td>6.191248</td>\n",
              "    </tr>\n",
              "    <tr>\n",
              "      <th>198</th>\n",
              "      <td>0.351214</td>\n",
              "      <td>0.762990</td>\n",
              "    </tr>\n",
              "    <tr>\n",
              "      <th>199</th>\n",
              "      <td>0.093440</td>\n",
              "      <td>-2.330287</td>\n",
              "    </tr>\n",
              "  </tbody>\n",
              "</table>\n",
              "<p>200 rows × 2 columns</p>\n",
              "</div>\n",
              "      <button class=\"colab-df-convert\" onclick=\"convertToInteractive('df-2ec176fb-61fc-4b35-a202-3a2fff8314c2')\"\n",
              "              title=\"Convert this dataframe to an interactive table.\"\n",
              "              style=\"display:none;\">\n",
              "        \n",
              "  <svg xmlns=\"http://www.w3.org/2000/svg\" height=\"24px\"viewBox=\"0 0 24 24\"\n",
              "       width=\"24px\">\n",
              "    <path d=\"M0 0h24v24H0V0z\" fill=\"none\"/>\n",
              "    <path d=\"M18.56 5.44l.94 2.06.94-2.06 2.06-.94-2.06-.94-.94-2.06-.94 2.06-2.06.94zm-11 1L8.5 8.5l.94-2.06 2.06-.94-2.06-.94L8.5 2.5l-.94 2.06-2.06.94zm10 10l.94 2.06.94-2.06 2.06-.94-2.06-.94-.94-2.06-.94 2.06-2.06.94z\"/><path d=\"M17.41 7.96l-1.37-1.37c-.4-.4-.92-.59-1.43-.59-.52 0-1.04.2-1.43.59L10.3 9.45l-7.72 7.72c-.78.78-.78 2.05 0 2.83L4 21.41c.39.39.9.59 1.41.59.51 0 1.02-.2 1.41-.59l7.78-7.78 2.81-2.81c.8-.78.8-2.07 0-2.86zM5.41 20L4 18.59l7.72-7.72 1.47 1.35L5.41 20z\"/>\n",
              "  </svg>\n",
              "      </button>\n",
              "      \n",
              "  <style>\n",
              "    .colab-df-container {\n",
              "      display:flex;\n",
              "      flex-wrap:wrap;\n",
              "      gap: 12px;\n",
              "    }\n",
              "\n",
              "    .colab-df-convert {\n",
              "      background-color: #E8F0FE;\n",
              "      border: none;\n",
              "      border-radius: 50%;\n",
              "      cursor: pointer;\n",
              "      display: none;\n",
              "      fill: #1967D2;\n",
              "      height: 32px;\n",
              "      padding: 0 0 0 0;\n",
              "      width: 32px;\n",
              "    }\n",
              "\n",
              "    .colab-df-convert:hover {\n",
              "      background-color: #E2EBFA;\n",
              "      box-shadow: 0px 1px 2px rgba(60, 64, 67, 0.3), 0px 1px 3px 1px rgba(60, 64, 67, 0.15);\n",
              "      fill: #174EA6;\n",
              "    }\n",
              "\n",
              "    [theme=dark] .colab-df-convert {\n",
              "      background-color: #3B4455;\n",
              "      fill: #D2E3FC;\n",
              "    }\n",
              "\n",
              "    [theme=dark] .colab-df-convert:hover {\n",
              "      background-color: #434B5C;\n",
              "      box-shadow: 0px 1px 3px 1px rgba(0, 0, 0, 0.15);\n",
              "      filter: drop-shadow(0px 1px 2px rgba(0, 0, 0, 0.3));\n",
              "      fill: #FFFFFF;\n",
              "    }\n",
              "  </style>\n",
              "\n",
              "      <script>\n",
              "        const buttonEl =\n",
              "          document.querySelector('#df-2ec176fb-61fc-4b35-a202-3a2fff8314c2 button.colab-df-convert');\n",
              "        buttonEl.style.display =\n",
              "          google.colab.kernel.accessAllowed ? 'block' : 'none';\n",
              "\n",
              "        async function convertToInteractive(key) {\n",
              "          const element = document.querySelector('#df-2ec176fb-61fc-4b35-a202-3a2fff8314c2');\n",
              "          const dataTable =\n",
              "            await google.colab.kernel.invokeFunction('convertToInteractive',\n",
              "                                                     [key], {});\n",
              "          if (!dataTable) return;\n",
              "\n",
              "          const docLinkHtml = 'Like what you see? Visit the ' +\n",
              "            '<a target=\"_blank\" href=https://colab.research.google.com/notebooks/data_table.ipynb>data table notebook</a>'\n",
              "            + ' to learn more about interactive tables.';\n",
              "          element.innerHTML = '';\n",
              "          dataTable['output_type'] = 'display_data';\n",
              "          await google.colab.output.renderOutput(dataTable, element);\n",
              "          const docLink = document.createElement('div');\n",
              "          docLink.innerHTML = docLinkHtml;\n",
              "          element.appendChild(docLink);\n",
              "        }\n",
              "      </script>\n",
              "    </div>\n",
              "  </div>\n",
              "  "
            ]
          },
          "metadata": {},
          "execution_count": 47
        }
      ]
    },
    {
      "cell_type": "code",
      "source": [
        "from numpy.matrixlib.defmatrix import mat\n",
        "%matplotlib inline\n",
        "matplotlib.scatter(df.x,df.y)\n",
        "df.plot(x='x',y='y')\n",
        "matplotlib.show()"
      ],
      "metadata": {
        "colab": {
          "base_uri": "https://localhost:8080/",
          "height": 862
        },
        "id": "-htLN-OvZJN0",
        "outputId": "96471755-411a-4a3a-812c-d2f56e626971"
      },
      "execution_count": 48,
      "outputs": [
        {
          "output_type": "display_data",
          "data": {
            "text/plain": [
              "<Figure size 640x480 with 1 Axes>"
            ],
            "image/png": "[encoded data removed]"
          },
          "metadata": {}
        },
        {
          "output_type": "display_data",
          "data": {
            "text/plain": [
              "<Figure size 640x480 with 1 Axes>"
            ],
            "image/png": "[encoded data removed]"
          },
          "metadata": {}
        }
      ]
    },
    {
      "cell_type": "code",
      "source": [],
      "metadata": {
        "id": "efUf7VTQXh2x"
      },
      "execution_count": 48,
      "outputs": []
    },
    {
      "cell_type": "code",
      "source": [
        "#x_train, x_test, y_train, y_test = train_test_split(*arrays, test_size=None, train_size=None, random_state=None, shuffle=True, stratify=None)\n",
        "\n",
        "x_train, x_test, y_train, y_test = train_test_split(x, y, train_size=0.80, random_state=10)"
      ],
      "metadata": {
        "id": "eUxw2TnKeyR2"
      },
      "execution_count": 49,
      "outputs": []
    },
    {
      "cell_type": "code",
      "source": [
        "x_test"
      ],
      "metadata": {
        "colab": {
          "base_uri": "https://localhost:8080/"
        },
        "id": "3pBHBKgP7WEb",
        "outputId": "a3a8ee17-8793-45c0-9c43-01c42f084914"
      },
      "execution_count": 50,
      "outputs": [
        {
          "output_type": "execute_result",
          "data": {
            "text/plain": [
              "array([0.25137413, 0.22479665, 0.54254437, 0.3512135 , 0.82110566,\n",
              "       0.71457578, 0.03068484, 0.94426071, 0.7738303 , 0.63364823,\n",
              "       0.31827281, 0.68535982, 0.04309736, 0.56155736, 0.46978529,\n",
              "       0.59020136, 0.56319068, 0.87809664, 0.51233415, 0.74267458,\n",
              "       0.09010673, 0.24861251, 0.90283176, 0.24207588, 0.06809727,\n",
              "       0.75249617, 0.56674992, 0.02075195, 0.88393648, 0.60316298,\n",
              "       0.43611826, 0.62628715, 0.87991517, 0.29279798, 0.30070006,\n",
              "       0.45851421, 0.18403482, 0.5990518 , 0.29596171, 0.61573688])"
            ]
          },
          "metadata": {},
          "execution_count": 50
        }
      ]
    },
    {
      "cell_type": "code",
      "source": [
        "#reshaping\n",
        "x_train = x_train.reshape(-1,1)\n",
        "x_test= x_test.reshape(-1,1)\n",
        "y_train = y_train.reshape(-1,1)\n",
        "y_test= y_test.reshape(-1,1)\n",
        "\n",
        "#x_train\n",
        "#y_train\n",
        "#x_test\n",
        "#y_test"
      ],
      "metadata": {
        "id": "VhtIrTr-8OUk"
      },
      "execution_count": 51,
      "outputs": []
    },
    {
      "cell_type": "code",
      "source": [
        "regression = linear_model.LinearRegression()\n",
        "#training the model\n",
        "regression.fit(x_train,y_train)\n",
        "# Print the coefficients and intercept of the trained model\n",
        "print(\"Coefficients:\", regression.coef_)\n",
        "print(\"Intercept:\", regression.intercept_)"
      ],
      "metadata": {
        "colab": {
          "base_uri": "https://localhost:8080/"
        },
        "id": "XSJlAR4P8xL6",
        "outputId": "edbb4488-0075-43d3-f4f3-c8af78f71cfe"
      },
      "execution_count": 52,
      "outputs": [
        {
          "output_type": "stream",
          "name": "stdout",
          "text": [
            "Coefficients: [[12.]]\n",
            "Intercept: [-3.45157193]\n"
          ]
        }
      ]
    },
    {
      "cell_type": "code",
      "source": [
        "matplotlib.scatter(x_train, y_train)\n",
        "matplotlib.scatter(x_train, y_train)\n",
        "\n",
        "matplotlib.xlabel('x (train)', fontsize=20)\n",
        "matplotlib.ylabel('y (train)', fontsize=20)"
      ],
      "metadata": {
        "colab": {
          "base_uri": "https://localhost:8080/",
          "height": 480
        },
        "id": "wg3RlUzfR6_k",
        "outputId": "2a47f395-5dbb-4ddd-bb9a-b15394b03384"
      },
      "execution_count": 53,
      "outputs": [
        {
          "output_type": "execute_result",
          "data": {
            "text/plain": [
              "Text(0, 0.5, 'y (train)')"
            ]
          },
          "metadata": {},
          "execution_count": 53
        },
        {
          "output_type": "display_data",
          "data": {
            "text/plain": [
              "<Figure size 640x480 with 1 Axes>"
            ],
            "image/png": "[encoded data removed]"
          },
          "metadata": {}
        }
      ]
    },
    {
      "cell_type": "code",
      "source": [
        "#predicting the y_test values for the  x_test after regression training\n",
        "y_prediction = regression.predict(x_test)\n",
        "compare_table = pandas.DataFrame({'Actual data ( y-test))': y_test.flatten(), 'Predicted data': y_prediction.flatten()})\n",
        "compare_table\n",
        "\n",
        "#It is seen that tthe predectaed data is same as y_test data which represent the prediction is appropriate."
      ],
      "metadata": {
        "colab": {
          "base_uri": "https://localhost:8080/",
          "height": 1000
        },
        "id": "-VnzxUamToMy",
        "outputId": "a230303b-5b10-4c09-934d-78e87afec5c4"
      },
      "execution_count": 65,
      "outputs": [
        {
          "output_type": "execute_result",
          "data": {
            "text/plain": [
              "    Actual data ( y-test))  Predicted data\n",
              "0                -0.435082       -0.435082\n",
              "1                -0.754012       -0.754012\n",
              "2                 3.058960        3.058960\n",
              "3                 0.762990        0.762990\n",
              "4                 6.401696        6.401696\n",
              "5                 5.123337        5.123337\n",
              "6                -3.083354       -3.083354\n",
              "7                 7.879557        7.879557\n",
              "8                 5.834392        5.834392\n",
              "9                 4.152207        4.152207\n",
              "10                0.367702        0.367702\n",
              "11                4.772746        4.772746\n",
              "12               -2.934404       -2.934404\n",
              "13                3.287116        3.287116\n",
              "14                2.185852        2.185852\n",
              "15                3.630844        3.630844\n",
              "16                3.306716        3.306716\n",
              "17                7.085588        7.085588\n",
              "18                2.696438        2.696438\n",
              "19                5.460523        5.460523\n",
              "20               -2.370291       -2.370291\n",
              "21               -0.468222       -0.468222\n",
              "22                7.382409        7.382409\n",
              "23               -0.546661       -0.546661\n",
              "24               -2.634405       -2.634405\n",
              "25                5.578382        5.578382\n",
              "26                3.349427        3.349427\n",
              "27               -3.202549       -3.202549\n",
              "28                7.155666        7.155666\n",
              "29                3.786384        3.786384\n",
              "30                1.781847        1.781847\n",
              "31                4.063874        4.063874\n",
              "32                7.107410        7.107410\n",
              "33                0.062004        0.062004\n",
              "34                0.156829        0.156829\n",
              "35                2.050599        2.050599\n",
              "36               -1.243154       -1.243154\n",
              "37                3.737050        3.737050\n",
              "38                0.099969        0.099969\n",
              "39                3.937271        3.937271"
            ],
            "text/html": [
              "\n",
              "  <div id=\"df-3cdb48b2-bb84-4e34-97a2-e31647463bab\">\n",
              "    <div class=\"colab-df-container\">\n",
              "      <div>\n",
              "<style scoped>\n",
              "    .dataframe tbody tr th:only-of-type {\n",
              "        vertical-align: middle;\n",
              "    }\n",
              "\n",
              "    .dataframe tbody tr th {\n",
              "        vertical-align: top;\n",
              "    }\n",
              "\n",
              "    .dataframe thead th {\n",
              "        text-align: right;\n",
              "    }\n",
              "</style>\n",
              "<table border=\"1\" class=\"dataframe\">\n",
              "  <thead>\n",
              "    <tr style=\"text-align: right;\">\n",
              "      <th></th>\n",
              "      <th>Actual data ( y-test))</th>\n",
              "      <th>Predicted data</th>\n",
              "    </tr>\n",
              "  </thead>\n",
              "  <tbody>\n",
              "    <tr>\n",
              "      <th>0</th>\n",
              "      <td>-0.435082</td>\n",
              "      <td>-0.435082</td>\n",
              "    </tr>\n",
              "    <tr>\n",
              "      <th>1</th>\n",
              "      <td>-0.754012</td>\n",
              "      <td>-0.754012</td>\n",
              "    </tr>\n",
              "    <tr>\n",
              "      <th>2</th>\n",
              "      <td>3.058960</td>\n",
              "      <td>3.058960</td>\n",
              "    </tr>\n",
              "    <tr>\n",
              "      <th>3</th>\n",
              "      <td>0.762990</td>\n",
              "      <td>0.762990</td>\n",
              "    </tr>\n",
              "    <tr>\n",
              "      <th>4</th>\n",
              "      <td>6.401696</td>\n",
              "      <td>6.401696</td>\n",
              "    </tr>\n",
              "    <tr>\n",
              "      <th>5</th>\n",
              "      <td>5.123337</td>\n",
              "      <td>5.123337</td>\n",
              "    </tr>\n",
              "    <tr>\n",
              "      <th>6</th>\n",
              "      <td>-3.083354</td>\n",
              "      <td>-3.083354</td>\n",
              "    </tr>\n",
              "    <tr>\n",
              "      <th>7</th>\n",
              "      <td>7.879557</td>\n",
              "      <td>7.879557</td>\n",
              "    </tr>\n",
              "    <tr>\n",
              "      <th>8</th>\n",
              "      <td>5.834392</td>\n",
              "      <td>5.834392</td>\n",
              "    </tr>\n",
              "    <tr>\n",
              "      <th>9</th>\n",
              "      <td>4.152207</td>\n",
              "      <td>4.152207</td>\n",
              "    </tr>\n",
              "    <tr>\n",
              "      <th>10</th>\n",
              "      <td>0.367702</td>\n",
              "      <td>0.367702</td>\n",
              "    </tr>\n",
              "    <tr>\n",
              "      <th>11</th>\n",
              "      <td>4.772746</td>\n",
              "      <td>4.772746</td>\n",
              "    </tr>\n",
              "    <tr>\n",
              "      <th>12</th>\n",
              "      <td>-2.934404</td>\n",
              "      <td>-2.934404</td>\n",
              "    </tr>\n",
              "    <tr>\n",
              "      <th>13</th>\n",
              "      <td>3.287116</td>\n",
              "      <td>3.287116</td>\n",
              "    </tr>\n",
              "    <tr>\n",
              "      <th>14</th>\n",
              "      <td>2.185852</td>\n",
              "      <td>2.185852</td>\n",
              "    </tr>\n",
              "    <tr>\n",
              "      <th>15</th>\n",
              "      <td>3.630844</td>\n",
              "      <td>3.630844</td>\n",
              "    </tr>\n",
              "    <tr>\n",
              "      <th>16</th>\n",
              "      <td>3.306716</td>\n",
              "      <td>3.306716</td>\n",
              "    </tr>\n",
              "    <tr>\n",
              "      <th>17</th>\n",
              "      <td>7.085588</td>\n",
              "      <td>7.085588</td>\n",
              "    </tr>\n",
              "    <tr>\n",
              "      <th>18</th>\n",
              "      <td>2.696438</td>\n",
              "      <td>2.696438</td>\n",
              "    </tr>\n",
              "    <tr>\n",
              "      <th>19</th>\n",
              "      <td>5.460523</td>\n",
              "      <td>5.460523</td>\n",
              "    </tr>\n",
              "    <tr>\n",
              "      <th>20</th>\n",
              "      <td>-2.370291</td>\n",
              "      <td>-2.370291</td>\n",
              "    </tr>\n",
              "    <tr>\n",
              "      <th>21</th>\n",
              "      <td>-0.468222</td>\n",
              "      <td>-0.468222</td>\n",
              "    </tr>\n",
              "    <tr>\n",
              "      <th>22</th>\n",
              "      <td>7.382409</td>\n",
              "      <td>7.382409</td>\n",
              "    </tr>\n",
              "    <tr>\n",
              "      <th>23</th>\n",
              "      <td>-0.546661</td>\n",
              "      <td>-0.546661</td>\n",
              "    </tr>\n",
              "    <tr>\n",
              "      <th>24</th>\n",
              "      <td>-2.634405</td>\n",
              "      <td>-2.634405</td>\n",
              "    </tr>\n",
              "    <tr>\n",
              "      <th>25</th>\n",
              "      <td>5.578382</td>\n",
              "      <td>5.578382</td>\n",
              "    </tr>\n",
              "    <tr>\n",
              "      <th>26</th>\n",
              "      <td>3.349427</td>\n",
              "      <td>3.349427</td>\n",
              "    </tr>\n",
              "    <tr>\n",
              "      <th>27</th>\n",
              "      <td>-3.202549</td>\n",
              "      <td>-3.202549</td>\n",
              "    </tr>\n",
              "    <tr>\n",
              "      <th>28</th>\n",
              "      <td>7.155666</td>\n",
              "      <td>7.155666</td>\n",
              "    </tr>\n",
              "    <tr>\n",
              "      <th>29</th>\n",
              "      <td>3.786384</td>\n",
              "      <td>3.786384</td>\n",
              "    </tr>\n",
              "    <tr>\n",
              "      <th>30</th>\n",
              "      <td>1.781847</td>\n",
              "      <td>1.781847</td>\n",
              "    </tr>\n",
              "    <tr>\n",
              "      <th>31</th>\n",
              "      <td>4.063874</td>\n",
              "      <td>4.063874</td>\n",
              "    </tr>\n",
              "    <tr>\n",
              "      <th>32</th>\n",
              "      <td>7.107410</td>\n",
              "      <td>7.107410</td>\n",
              "    </tr>\n",
              "    <tr>\n",
              "      <th>33</th>\n",
              "      <td>0.062004</td>\n",
              "      <td>0.062004</td>\n",
              "    </tr>\n",
              "    <tr>\n",
              "      <th>34</th>\n",
              "      <td>0.156829</td>\n",
              "      <td>0.156829</td>\n",
              "    </tr>\n",
              "    <tr>\n",
              "      <th>35</th>\n",
              "      <td>2.050599</td>\n",
              "      <td>2.050599</td>\n",
              "    </tr>\n",
              "    <tr>\n",
              "      <th>36</th>\n",
              "      <td>-1.243154</td>\n",
              "      <td>-1.243154</td>\n",
              "    </tr>\n",
              "    <tr>\n",
              "      <th>37</th>\n",
              "      <td>3.737050</td>\n",
              "      <td>3.737050</td>\n",
              "    </tr>\n",
              "    <tr>\n",
              "      <th>38</th>\n",
              "      <td>0.099969</td>\n",
              "      <td>0.099969</td>\n",
              "    </tr>\n",
              "    <tr>\n",
              "      <th>39</th>\n",
              "      <td>3.937271</td>\n",
              "      <td>3.937271</td>\n",
              "    </tr>\n",
              "  </tbody>\n",
              "</table>\n",
              "</div>\n",
              "      <button class=\"colab-df-convert\" onclick=\"convertToInteractive('df-3cdb48b2-bb84-4e34-97a2-e31647463bab')\"\n",
              "              title=\"Convert this dataframe to an interactive table.\"\n",
              "              style=\"display:none;\">\n",
              "        \n",
              "  <svg xmlns=\"http://www.w3.org/2000/svg\" height=\"24px\"viewBox=\"0 0 24 24\"\n",
              "       width=\"24px\">\n",
              "    <path d=\"M0 0h24v24H0V0z\" fill=\"none\"/>\n",
              "    <path d=\"M18.56 5.44l.94 2.06.94-2.06 2.06-.94-2.06-.94-.94-2.06-.94 2.06-2.06.94zm-11 1L8.5 8.5l.94-2.06 2.06-.94-2.06-.94L8.5 2.5l-.94 2.06-2.06.94zm10 10l.94 2.06.94-2.06 2.06-.94-2.06-.94-.94-2.06-.94 2.06-2.06.94z\"/><path d=\"M17.41 7.96l-1.37-1.37c-.4-.4-.92-.59-1.43-.59-.52 0-1.04.2-1.43.59L10.3 9.45l-7.72 7.72c-.78.78-.78 2.05 0 2.83L4 21.41c.39.39.9.59 1.41.59.51 0 1.02-.2 1.41-.59l7.78-7.78 2.81-2.81c.8-.78.8-2.07 0-2.86zM5.41 20L4 18.59l7.72-7.72 1.47 1.35L5.41 20z\"/>\n",
              "  </svg>\n",
              "      </button>\n",
              "      \n",
              "  <style>\n",
              "    .colab-df-container {\n",
              "      display:flex;\n",
              "      flex-wrap:wrap;\n",
              "      gap: 12px;\n",
              "    }\n",
              "\n",
              "    .colab-df-convert {\n",
              "      background-color: #E8F0FE;\n",
              "      border: none;\n",
              "      border-radius: 50%;\n",
              "      cursor: pointer;\n",
              "      display: none;\n",
              "      fill: #1967D2;\n",
              "      height: 32px;\n",
              "      padding: 0 0 0 0;\n",
              "      width: 32px;\n",
              "    }\n",
              "\n",
              "    .colab-df-convert:hover {\n",
              "      background-color: #E2EBFA;\n",
              "      box-shadow: 0px 1px 2px rgba(60, 64, 67, 0.3), 0px 1px 3px 1px rgba(60, 64, 67, 0.15);\n",
              "      fill: #174EA6;\n",
              "    }\n",
              "\n",
              "    [theme=dark] .colab-df-convert {\n",
              "      background-color: #3B4455;\n",
              "      fill: #D2E3FC;\n",
              "    }\n",
              "\n",
              "    [theme=dark] .colab-df-convert:hover {\n",
              "      background-color: #434B5C;\n",
              "      box-shadow: 0px 1px 3px 1px rgba(0, 0, 0, 0.15);\n",
              "      filter: drop-shadow(0px 1px 2px rgba(0, 0, 0, 0.3));\n",
              "      fill: #FFFFFF;\n",
              "    }\n",
              "  </style>\n",
              "\n",
              "      <script>\n",
              "        const buttonEl =\n",
              "          document.querySelector('#df-3cdb48b2-bb84-4e34-97a2-e31647463bab button.colab-df-convert');\n",
              "        buttonEl.style.display =\n",
              "          google.colab.kernel.accessAllowed ? 'block' : 'none';\n",
              "\n",
              "        async function convertToInteractive(key) {\n",
              "          const element = document.querySelector('#df-3cdb48b2-bb84-4e34-97a2-e31647463bab');\n",
              "          const dataTable =\n",
              "            await google.colab.kernel.invokeFunction('convertToInteractive',\n",
              "                                                     [key], {});\n",
              "          if (!dataTable) return;\n",
              "\n",
              "          const docLinkHtml = 'Like what you see? Visit the ' +\n",
              "            '<a target=\"_blank\" href=https://colab.research.google.com/notebooks/data_table.ipynb>data table notebook</a>'\n",
              "            + ' to learn more about interactive tables.';\n",
              "          element.innerHTML = '';\n",
              "          dataTable['output_type'] = 'display_data';\n",
              "          await google.colab.output.renderOutput(dataTable, element);\n",
              "          const docLink = document.createElement('div');\n",
              "          docLink.innerHTML = docLinkHtml;\n",
              "          element.appendChild(docLink);\n",
              "        }\n",
              "      </script>\n",
              "    </div>\n",
              "  </div>\n",
              "  "
            ]
          },
          "metadata": {},
          "execution_count": 65
        }
      ]
    },
    {
      "cell_type": "code",
      "source": [
        "matplotlib.scatter(x_test, y_test,  color='red')\n",
        "matplotlib.plot(x_test, y_prediction, color='grey', linewidth=2)\n",
        "matplotlib.show()\n",
        "\n",
        "#We can see the prediction plot in conjunction with our test scatter graph."
      ],
      "metadata": {
        "colab": {
          "base_uri": "https://localhost:8080/",
          "height": 430
        },
        "id": "KkkoYkOgZYQs",
        "outputId": "bd64b93a-71d6-43b2-f7e0-5b375a9fe59b"
      },
      "execution_count": 66,
      "outputs": [
        {
          "output_type": "display_data",
          "data": {
            "text/plain": [
              "<Figure size 640x480 with 1 Axes>"
            ],
            "image/png": "[encoded data removed]"
          },
          "metadata": {}
        }
      ]
    }
  ]
}